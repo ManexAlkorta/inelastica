{
 "cells": [
  {
   "cell_type": "code",
   "execution_count": null,
   "metadata": {},
   "outputs": [],
   "source": [
    "import sisl\n",
    "import numpy as np\n",
    "import os\n",
    "import matplotlib.pyplot as plt\n",
    "import netCDF4 as nc4\n",
    "%matplotlib inline"
   ]
  },
  {
   "cell_type": "markdown",
   "metadata": {},
   "source": [
    "# 1. Introduction #\n",
    "\n",
    "In this tutorial we will showcase some of the features of [Inelastica](https://github.com/tfrederiksen/inelastica/), using a simple model to discuss tunneling through a CO molecule adsorbed on Cu.\n",
    "\n",
    "On real Cu surfaces CO is known to adsorb on the top site in an upright configuration with the C atom towards the surface.\n",
    "\n",
    "This is the general setup we will work with:\n",
    "\n",
    "<img src=\"setup.png\">\n",
    "\n",
    "The 1D Cu electrodes are characterized by the lattice constant *a*. The electrodes are defined as 4-atom blocks of the chains to avoid coupling next-nearest layer coupling between the principal layers. The separation between \"substrate\" (left electrode) and \"STM tip\" (right electrode) is defined as *L*.\n",
    "\n",
    "In the following, we will use [sisl](https://github.com/zerothi/sisl/) to construct geometries and [siesta](https://gitlab.com/siesta-project/siesta/) to relax geometries and determine the electronic Hamiltonian from DFT with finite differences.\n",
    "\n",
    "Finally, we will use different scripts from [Inelastica](https://github.com/tfrederiksen/inelastica/) to compute core physical properties\n",
    "* vibrational modes and energies\n",
    "* eigenchannel scattering states\n",
    "* inelastic transport characteristics (IETS spectra)\n",
    "\n"
   ]
  },
  {
   "cell_type": "markdown",
   "metadata": {},
   "source": [
    "# 2. SIESTA calculations #"
   ]
  },
  {
   "cell_type": "markdown",
   "metadata": {},
   "source": [
    "## Electrodes ##\n",
    "\n",
    "To keep things as computationally light as possible, we consider the CO molecule between one-dimensional Cu chains as described above.\n",
    "\n",
    "Let us begin with looking at the electronic structure of the electrodes."
   ]
  },
  {
   "cell_type": "code",
   "execution_count": null,
   "metadata": {},
   "outputs": [],
   "source": [
    "a = 2.56 # Cu lattice constant\n",
    "s = 7.00 # transverse cell separation\n",
    "Cu = sisl.Atom('Cu', tag='Cu.mpn')\n",
    "\n",
    "# primitive cell of the electrode\n",
    "folder = 'PRIM'\n",
    "sc = sisl.SuperCell([a, s, s], nsc=[3, 1, 1])\n",
    "elec = sisl.Geometry([0, 0, 0], atoms=Cu, sc=sc)\n",
    "elec.write(f'{folder}/STRUCT.fdf')\n",
    "#os.system(f'cd {folder} && siesta RUN.fdf |tee RUN.out')"
   ]
  },
  {
   "cell_type": "markdown",
   "metadata": {},
   "source": [
    "We can readily look at the electronic bands with sisl"
   ]
  },
  {
   "cell_type": "code",
   "execution_count": null,
   "metadata": {},
   "outputs": [],
   "source": [
    "H = sisl.get_sile(f'{folder}/elec.TSHS').read_hamiltonian()\n",
    "band = sisl.BandStructure(H, [[0., 0., 0.], [1/2, 1/2, 0]], 101, [r'\\Gamma', 'X'])\n",
    "eigs = band.apply.array.eigh()\n",
    "lk = band.lineark()\n",
    "plt.plot(lk, eigs, 'b');\n",
    "plt.xlabel('Gamma-X'); \n",
    "plt.ylabel('$E-E_F$ (eV)');\n",
    "plt.ylim(-3, 3);"
   ]
  },
  {
   "cell_type": "markdown",
   "metadata": {},
   "source": [
    "Next we build a larger 4-atom electrode block to have interactions between nearest-neighbor cells only"
   ]
  },
  {
   "cell_type": "code",
   "execution_count": null,
   "metadata": {},
   "outputs": [],
   "source": [
    "# transiesta cell for both electrodes\n",
    "n = 4 # atoms in electrode block\n",
    "folder = 'ELEC'\n",
    "elec.tile(n, axis=0).write(f'{folder}/STRUCT.fdf')\n",
    "#os.system(f'cd {folder} && siesta RUN.fdf |tee RUN.out')"
   ]
  },
  {
   "cell_type": "markdown",
   "metadata": {},
   "source": [
    "**Questions:**\n",
    "* What are the symmetry character of the bands?\n",
    "* What controls their alignment and band width relative to the Fermi energy?"
   ]
  },
  {
   "cell_type": "markdown",
   "metadata": {},
   "source": [
    "## Geometry relaxation of device region ##"
   ]
  },
  {
   "cell_type": "markdown",
   "metadata": {},
   "source": [
    "Next we build the central device region consisting of left electrode, CO molecule, and right electrode. Conventionally we call the geometry relaxation step to determine the device geometry *CGrun* (but this is just a name):"
   ]
  },
  {
   "cell_type": "code",
   "execution_count": null,
   "metadata": {},
   "outputs": [],
   "source": [
    "folder = 'CGrun'\n",
    "C = sisl.Atom('C', tag='C.mpn')\n",
    "O = sisl.Atom('O', tag='O.mpn')\n",
    "# CO molecule\n",
    "sc = sisl.SuperCell([4, s, s], nsc=[3, 1, 1])\n",
    "#CO = sisl.Geometry([[-0.6603, 0, 0], [0.5753, 0, 0]], atoms=[C, O], sc=sc) # 18-atom cell\n",
    "CO = sisl.Geometry([[-0.6503, 0, 0], [0.5853, 0, 0]], atoms=[C, O], sc=sc) # 16-atom cell\n",
    "left = elec.tile(6, axis=0)\n",
    "device = left.append(CO, 0).append(left, 0)\n",
    "device.write(f'{folder}/STRUCT.fdf')\n",
    "#os.system(f'cd {folder} && siesta RUN.fdf |tee RUN.out')"
   ]
  },
  {
   "cell_type": "markdown",
   "metadata": {},
   "source": [
    "**Questions:**\n",
    "* What is the CO bond length in this setup?\n",
    "* What are the residual forces on the C, O and surface Cu atoms?"
   ]
  },
  {
   "cell_type": "markdown",
   "metadata": {},
   "source": [
    "## Finite displacements run ##"
   ]
  },
  {
   "cell_type": "markdown",
   "metadata": {},
   "source": [
    "To determine the dynamical properties of the system, as well as the electron-phonon couplings (EPC), we use finite displacements along the cartesian atoms of a selected set of **dynamical atoms** within the device, in our case we just consider the motion of CO (atom indices 7 and 8 in the device).\n",
    "\n",
    "*Inelastica* comes with a script to prepare a finite-difference run *FCrun* for SIESTA based on the input parameters and geometry from the relaxation *CGrun* above:\n"
   ]
  },
  {
   "cell_type": "code",
   "execution_count": null,
   "metadata": {},
   "outputs": [],
   "source": [
    "folder = 'FCrun'\n",
    "#os.system(f'setupFCrun --FCfirst 7 --FClast 8 CGrun {folder}')\n",
    "#os.system(f'cd {folder} && siesta RUN.fdf |tee RUN.out')"
   ]
  },
  {
   "cell_type": "markdown",
   "metadata": {},
   "source": [
    "**Questions:**\n",
    "* Look at the SIESTA input file RUN.fdf: The *setupFCrun* script has prepended lines to the file. What do they mean?\n",
    "* Which *.TSHS* files have SIESTA generated?\n",
    "* What is contained in the *.FC* output file?"
   ]
  },
  {
   "cell_type": "markdown",
   "metadata": {},
   "source": [
    "In order to compute EPC with a non-orthogonal LCAO basis, we need to know how the overlap matrix is changed between the configurations mapped out during the finite-difference *FCrun*.\n",
    "\n",
    "To compute EPC *Inelastica* expects to find an overlap *OSrun* folder with that info. Again, *Inelastica* comes with a script to prepare the input files for SIESTA: "
   ]
  },
  {
   "cell_type": "code",
   "execution_count": null,
   "metadata": {},
   "outputs": [],
   "source": [
    "folder = 'OSrun'\n",
    "#os.system(f'setupOSrun CGrun {folder}')\n",
    "for i in range(1, 7):\n",
    "    print(i)\n",
    "    #os.system(f'cd {folder} && siesta RUN_{i}.fdf |tee RUN_{i}.out')\n",
    "    "
   ]
  },
  {
   "cell_type": "markdown",
   "metadata": {},
   "source": [
    "**Questions:**\n",
    "* The *setupOSrun* has generated six input files (RUN_i.fdf) and structures (STRUCT_i.fdf). What are the differences between these setups?\n",
    "* Why are these calculations extremely fast compared to a normal SIESTA run?"
   ]
  },
  {
   "cell_type": "markdown",
   "metadata": {},
   "source": [
    "# 3. Transport calculation (TranSIESTA/TBTRANS) #"
   ]
  },
  {
   "cell_type": "markdown",
   "metadata": {},
   "source": [
    "Above we determined the geometry using periodic boundary conditions. Let us stick to this geometry for now, but set up all inputs required for a TranSIESTA run in order to compute the transmission function with *tbtrans*:"
   ]
  },
  {
   "cell_type": "code",
   "execution_count": null,
   "metadata": {},
   "outputs": [],
   "source": [
    "folder = 'TSrun'\n",
    "#os.system(f'cd {folder} && siesta RUN.fdf |tee RUN.out')\n",
    "#os.system(f'cd {folder} && tbtrans RUN.fdf |tee RUN.TBT.out')"
   ]
  },
  {
   "cell_type": "code",
   "execution_count": null,
   "metadata": {},
   "outputs": [],
   "source": [
    "tbt = sisl.get_sile(f'{folder}/device.TBT.nc')\n",
    "plt.plot(tbt.E, tbt.transmission());\n",
    "plt.xlabel('$E - E_F$ (eV)'); plt.ylabel('Transmission T(E)');"
   ]
  },
  {
   "cell_type": "markdown",
   "metadata": {},
   "source": [
    "**Questions:**\n",
    "* What is the typical tunneling probability of electrons near the Fermi level?\n",
    "* Why are thee spikes in the transmission?"
   ]
  },
  {
   "cell_type": "markdown",
   "metadata": {},
   "source": [
    "# 4. Inelastica #"
   ]
  },
  {
   "cell_type": "markdown",
   "metadata": {},
   "source": [
    "## EigenChannels ##"
   ]
  },
  {
   "cell_type": "markdown",
   "metadata": {},
   "source": [
    "Before discussing vibrations and inelastic effects, let us first understand the scattering states of our system. These can be computed with the *EigenChannels* script in *Inelastica*:"
   ]
  },
  {
   "cell_type": "code",
   "execution_count": null,
   "metadata": {},
   "outputs": [],
   "source": [
    "folder = 'ECrun'\n",
    "energy = -1.0\n",
    "#os.system(f'EigenChannels -F 1 -L 14 -f TSrun/RUN.fdf -e {energy} -n 3 {folder}')"
   ]
  },
  {
   "cell_type": "markdown",
   "metadata": {},
   "source": [
    "In the output *ECrun* folder you will find many files, among them the scattering states in the XSF format, ready for visualization with xcrysden:"
   ]
  },
  {
   "cell_type": "code",
   "execution_count": null,
   "metadata": {},
   "outputs": [],
   "source": [
    "# sudo apt install xcrysden # Ubuntu/Linux install \n",
    "# xcrysden --xsf device.EC.1L_E-1.000.XSF"
   ]
  },
  {
   "cell_type": "markdown",
   "metadata": {},
   "source": [
    "**Questions:**\n",
    "* What is the meaning of the **-n 3** flag to *EigenChannels*?\n",
    "* What are the symmetries of the scattering states at 1.0 eV below the Fermi level?\n",
    "* What scattering states are available for transport at the Fermi level in this model system?"
   ]
  },
  {
   "cell_type": "markdown",
   "metadata": {},
   "source": [
    "## Calculation of vibrational modes, energies, and EPC ##"
   ]
  },
  {
   "cell_type": "markdown",
   "metadata": {},
   "source": [
    "We are now ready to look at the vibrational modes. Again, *Inelastica* has a script to analyze the data from the *FCrun* and *OSrun* above to \n",
    "* construct the dynamical matrix **D**, \n",
    "* symmetrize and diagonalize **D** to obtain normal coordinates and mode energies,\n",
    "* collect the *.TSHS* files to compute the EPC corresponding to each normal coordinate\n",
    "\n",
    "The calculation proceeds as follows:"
   ]
  },
  {
   "cell_type": "code",
   "execution_count": null,
   "metadata": {},
   "outputs": [],
   "source": [
    "folder = 'PHrun'\n",
    "#os.system(f'Phonons -c --FCfirst=7 --FClast=8 -F 5 -L 10 {folder}')"
   ]
  },
  {
   "cell_type": "markdown",
   "metadata": {},
   "source": [
    "**Questions:**\n",
    "* Look at the log file from the run. What has been computed?\n",
    "* What changes if one excludes the **-c** flag from the call?\n",
    "* What are the meanings of the other flags above?"
   ]
  },
  {
   "cell_type": "markdown",
   "metadata": {},
   "source": [
    "The *Phonons* script writes several files, among them basically all quantities to a file in the netCDF4 file format. Let us use it to plot the vibrational energies:"
   ]
  },
  {
   "cell_type": "code",
   "execution_count": null,
   "metadata": {},
   "outputs": [],
   "source": [
    "PH = nc4.Dataset(f'{folder}/Output.nc', 'r');\n",
    "hw = PH.variables['hw'][:];\n",
    "plt.plot(hw, 'o-');\n",
    "plt.xlabel('Mode index');\n",
    "plt.ylabel('Mode energy (eV)');"
   ]
  },
  {
   "cell_type": "markdown",
   "metadata": {},
   "source": [
    "**Question**\n",
    "* Why are there 6 modes?\n",
    "* What is the meaning of negative mode energies?"
   ]
  },
  {
   "cell_type": "markdown",
   "metadata": {},
   "source": [
    "To understand better the character of each mode one can use xcrysden to visualize the normal coordinate vectors, e.g., "
   ]
  },
  {
   "cell_type": "code",
   "execution_count": null,
   "metadata": {},
   "outputs": [],
   "source": [
    "# xcrysden --xsf PHrun/Output.mol.axsf\n",
    "# Change from the menu \"Modify -> Force Settings -> Length Factor = 2\"\n",
    "# Enable from the menu \"Display -> Forces\""
   ]
  },
  {
   "cell_type": "markdown",
   "metadata": {},
   "source": [
    "We can also develop an understanding of the different modes without a 3D visualizer, by reading the normal coordinate matrix of displacement amplitudes. The format is (mode index, atom index): "
   ]
  },
  {
   "cell_type": "code",
   "execution_count": null,
   "metadata": {},
   "outputs": [],
   "source": [
    "mode = 0\n",
    "dx, dy, dz = PH.variables['U'][mode].T\n",
    "plt.plot(dx, 'o', label='dx');\n",
    "plt.plot(dy, 'o', label='dy');\n",
    "plt.plot(dz, 'o', label='dz');\n",
    "plt.legend()\n",
    "plt.title(f'Normal mode = {mode}');\n",
    "plt.xlabel('Atom index');\n",
    "plt.ylabel('Displacement amplitude');"
   ]
  },
  {
   "cell_type": "markdown",
   "metadata": {},
   "source": [
    "**Questions**\n",
    "* Which modes are longitudinal with respect to the system axis?\n",
    "* Which ones are transversal?\n",
    "* Which pairs of modes are degenerate? And why?"
   ]
  },
  {
   "cell_type": "markdown",
   "metadata": {},
   "source": [
    "## Calculation of IETS spectrum ##"
   ]
  },
  {
   "cell_type": "code",
   "execution_count": null,
   "metadata": {},
   "outputs": [],
   "source": [
    "folder = 'INrun'\n",
    "#os.system(f'Inelastica -p PHrun/Output.nc -f TSrun/RUN.fdf -F 5 -L 10 {folder}')"
   ]
  },
  {
   "cell_type": "code",
   "execution_count": null,
   "metadata": {},
   "outputs": [],
   "source": [
    "IN = nc4.Dataset(f'{folder}/device.IN.nc', 'r')\n",
    "V = IN.variables['V'][:]\n",
    "I = IN.variables['I'][:]\n",
    "dI = IN.variables['dI'][:]\n",
    "ddI = IN.variables['ddI'][:]\n",
    "plt.plot(V, I);\n",
    "plt.plot(V, dI);\n",
    "plt.plot(V, ddI);\n",
    "plt.xlabel('Bias voltage (V)');\n",
    "plt.ylabel('I, dI/dV, d2I/dV2');"
   ]
  },
  {
   "cell_type": "code",
   "execution_count": null,
   "metadata": {},
   "outputs": [],
   "source": [
    "IN = nc4.Dataset(f'{folder}/device.IN.nc', 'r')\n",
    "IETS = IN.variables['IETS'][:]\n",
    "plt.plot(V, IETS);\n",
    "plt.plot(hw, 0 * hw, 'o');\n",
    "plt.xlabel('Bias voltage (V)');\n",
    "plt.ylabel('IETS (1/V)');"
   ]
  },
  {
   "cell_type": "markdown",
   "metadata": {},
   "source": [
    "## IETS spectrum with pi-states ## "
   ]
  },
  {
   "cell_type": "markdown",
   "metadata": {},
   "source": [
    "Now, in reality the conduction is carried by pi-states, we can mimic this with shifting the Fermi energy"
   ]
  },
  {
   "cell_type": "code",
   "execution_count": null,
   "metadata": {},
   "outputs": [],
   "source": [
    "folder = 'INrun_shift'\n",
    "energy = -1.0\n",
    "Vmax = 0.050\n",
    "Vrms = 0.001\n",
    "os.system(f'Inelastica -p PHrun/Output.nc -f TSrun/RUN.fdf -F 5 -L 10 -e {energy} -V {Vrms} -v {Vmax} {folder}')"
   ]
  },
  {
   "cell_type": "code",
   "execution_count": null,
   "metadata": {},
   "outputs": [],
   "source": [
    "IN = nc4.Dataset(f'{folder}/device.IN.nc', 'r')\n",
    "V = IN.variables['V'][:]\n",
    "IETS = IN.variables['IETS'][:]\n",
    "plt.plot(V, IETS);\n",
    "plt.xlabel('Bias voltage (V)');\n",
    "plt.ylabel('IETS (1/V)');"
   ]
  },
  {
   "cell_type": "markdown",
   "metadata": {},
   "source": [
    "# Extra questions #"
   ]
  },
  {
   "cell_type": "markdown",
   "metadata": {},
   "source": [
    "## Isotope shifts ##"
   ]
  },
  {
   "cell_type": "markdown",
   "metadata": {},
   "source": [
    "The vibrational modes of CO depends on the masses. By default, Inelastica assumes the atoms are the isotopes 12C and 16O. However, it is possible with Inelastica to specify different masses for the atoms: Here is an example where the masses of atom indices 6 and 7 are changed for 13C and 18O:"
   ]
  },
  {
   "cell_type": "code",
   "execution_count": null,
   "metadata": {},
   "outputs": [],
   "source": [
    "folder = 'PHrun_isotope'\n",
    "C13 = [6, 13.0]\n",
    "O18 = [7, 18.0]\n",
    "os.system(f'Phonons -c --FCfirst=7 --FClast=8 -F 5 -L 10 --Isotopes \"[{C13}, {O18}]\" {folder}')"
   ]
  },
  {
   "cell_type": "markdown",
   "metadata": {},
   "source": [
    "## Geometric effects in IETS ##"
   ]
  },
  {
   "cell_type": "markdown",
   "metadata": {},
   "source": [
    "* move tip chain away from symmetry axis?\n",
    "* include vibrational heating?\n",
    "* Construction of 2D system where k-point sampling plays a role?"
   ]
  }
 ],
 "metadata": {
  "kernelspec": {
   "display_name": "Python 3",
   "language": "python",
   "name": "python3"
  },
  "language_info": {
   "codemirror_mode": {
    "name": "ipython",
    "version": 3
   },
   "file_extension": ".py",
   "mimetype": "text/x-python",
   "name": "python",
   "nbconvert_exporter": "python",
   "pygments_lexer": "ipython3",
   "version": "3.8.5"
  }
 },
 "nbformat": 4,
 "nbformat_minor": 4
}
